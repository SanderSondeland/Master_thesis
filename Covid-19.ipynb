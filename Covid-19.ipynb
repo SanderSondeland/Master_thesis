{
 "cells": [
  {
   "attachments": {},
   "cell_type": "markdown",
   "metadata": {},
   "source": [
    "# Covid 19 example"
   ]
  },
  {
   "cell_type": "code",
   "execution_count": 1,
   "metadata": {},
   "outputs": [],
   "source": [
    "import requests\n",
    "import io\n",
    "import numpy as np\n",
    "import matplotlib.dates as mdates\n",
    "import pandas as pd\n",
    "import matplotlib.pyplot as plt"
   ]
  },
  {
   "cell_type": "code",
   "execution_count": 2,
   "metadata": {},
   "outputs": [
    {
     "data": {
      "text/html": [
       "<div>\n",
       "<style scoped>\n",
       "    .dataframe tbody tr th:only-of-type {\n",
       "        vertical-align: middle;\n",
       "    }\n",
       "\n",
       "    .dataframe tbody tr th {\n",
       "        vertical-align: top;\n",
       "    }\n",
       "\n",
       "    .dataframe thead th {\n",
       "        text-align: right;\n",
       "    }\n",
       "</style>\n",
       "<table border=\"1\" class=\"dataframe\">\n",
       "  <thead>\n",
       "    <tr style=\"text-align: right;\">\n",
       "      <th></th>\n",
       "      <th>LOCATION</th>\n",
       "      <th>TIME</th>\n",
       "      <th>ELAPSED_TIME_SINCE_OUTBREAK</th>\n",
       "      <th>CONFIRMED</th>\n",
       "      <th>DEATHS</th>\n",
       "      <th>RECOVERED</th>\n",
       "    </tr>\n",
       "  </thead>\n",
       "  <tbody>\n",
       "    <tr>\n",
       "      <th>0</th>\n",
       "      <td>Afghanistan</td>\n",
       "      <td>2020-02-24 23:59:00</td>\n",
       "      <td>0</td>\n",
       "      <td>1</td>\n",
       "      <td>0</td>\n",
       "      <td>0</td>\n",
       "    </tr>\n",
       "    <tr>\n",
       "      <th>1</th>\n",
       "      <td>Afghanistan</td>\n",
       "      <td>2020-02-25 23:59:00</td>\n",
       "      <td>1</td>\n",
       "      <td>1</td>\n",
       "      <td>0</td>\n",
       "      <td>0</td>\n",
       "    </tr>\n",
       "    <tr>\n",
       "      <th>2</th>\n",
       "      <td>Afghanistan</td>\n",
       "      <td>2020-02-26 23:59:00</td>\n",
       "      <td>2</td>\n",
       "      <td>1</td>\n",
       "      <td>0</td>\n",
       "      <td>0</td>\n",
       "    </tr>\n",
       "    <tr>\n",
       "      <th>3</th>\n",
       "      <td>Afghanistan</td>\n",
       "      <td>2020-02-27 23:59:00</td>\n",
       "      <td>3</td>\n",
       "      <td>1</td>\n",
       "      <td>0</td>\n",
       "      <td>0</td>\n",
       "    </tr>\n",
       "    <tr>\n",
       "      <th>4</th>\n",
       "      <td>Afghanistan</td>\n",
       "      <td>2020-02-28 23:59:00</td>\n",
       "      <td>4</td>\n",
       "      <td>1</td>\n",
       "      <td>0</td>\n",
       "      <td>0</td>\n",
       "    </tr>\n",
       "    <tr>\n",
       "      <th>...</th>\n",
       "      <td>...</td>\n",
       "      <td>...</td>\n",
       "      <td>...</td>\n",
       "      <td>...</td>\n",
       "      <td>...</td>\n",
       "      <td>...</td>\n",
       "    </tr>\n",
       "    <tr>\n",
       "      <th>44516</th>\n",
       "      <td>Hubei</td>\n",
       "      <td>2020-10-21 23:59:00</td>\n",
       "      <td>273</td>\n",
       "      <td>68139</td>\n",
       "      <td>4512</td>\n",
       "      <td>63627</td>\n",
       "    </tr>\n",
       "    <tr>\n",
       "      <th>44517</th>\n",
       "      <td>Hubei</td>\n",
       "      <td>2020-10-22 23:59:00</td>\n",
       "      <td>274</td>\n",
       "      <td>68139</td>\n",
       "      <td>4512</td>\n",
       "      <td>63627</td>\n",
       "    </tr>\n",
       "    <tr>\n",
       "      <th>44518</th>\n",
       "      <td>Hubei</td>\n",
       "      <td>2020-10-23 23:59:00</td>\n",
       "      <td>275</td>\n",
       "      <td>68139</td>\n",
       "      <td>4512</td>\n",
       "      <td>63627</td>\n",
       "    </tr>\n",
       "    <tr>\n",
       "      <th>44519</th>\n",
       "      <td>Hubei</td>\n",
       "      <td>2020-10-24 23:59:00</td>\n",
       "      <td>276</td>\n",
       "      <td>68139</td>\n",
       "      <td>4512</td>\n",
       "      <td>63627</td>\n",
       "    </tr>\n",
       "    <tr>\n",
       "      <th>44520</th>\n",
       "      <td>Hubei</td>\n",
       "      <td>2020-10-25 23:59:00</td>\n",
       "      <td>277</td>\n",
       "      <td>68139</td>\n",
       "      <td>4512</td>\n",
       "      <td>63627</td>\n",
       "    </tr>\n",
       "  </tbody>\n",
       "</table>\n",
       "<p>44521 rows × 6 columns</p>\n",
       "</div>"
      ],
      "text/plain": [
       "          LOCATION                 TIME  ELAPSED_TIME_SINCE_OUTBREAK  \\\n",
       "0      Afghanistan  2020-02-24 23:59:00                            0   \n",
       "1      Afghanistan  2020-02-25 23:59:00                            1   \n",
       "2      Afghanistan  2020-02-26 23:59:00                            2   \n",
       "3      Afghanistan  2020-02-27 23:59:00                            3   \n",
       "4      Afghanistan  2020-02-28 23:59:00                            4   \n",
       "...            ...                  ...                          ...   \n",
       "44516        Hubei  2020-10-21 23:59:00                          273   \n",
       "44517        Hubei  2020-10-22 23:59:00                          274   \n",
       "44518        Hubei  2020-10-23 23:59:00                          275   \n",
       "44519        Hubei  2020-10-24 23:59:00                          276   \n",
       "44520        Hubei  2020-10-25 23:59:00                          277   \n",
       "\n",
       "       CONFIRMED  DEATHS  RECOVERED  \n",
       "0              1       0          0  \n",
       "1              1       0          0  \n",
       "2              1       0          0  \n",
       "3              1       0          0  \n",
       "4              1       0          0  \n",
       "...          ...     ...        ...  \n",
       "44516      68139    4512      63627  \n",
       "44517      68139    4512      63627  \n",
       "44518      68139    4512      63627  \n",
       "44519      68139    4512      63627  \n",
       "44520      68139    4512      63627  \n",
       "\n",
       "[44521 rows x 6 columns]"
      ]
     },
     "execution_count": 2,
     "metadata": {},
     "output_type": "execute_result"
    }
   ],
   "source": [
    "url = 'https://raw.githubusercontent.com/SanderSondeland/Master/main/corona_data_new.csv?token=GHSAT0AAAAAACBRT5KRZAWZGFMMNZ3Y5IBAZEIELWA'\n",
    "download = requests.get(url).content\n",
    "data = pd.read_csv(io.StringIO(download.decode('utf-8')), sep='\\t')\n",
    "data"
   ]
  },
  {
   "cell_type": "code",
   "execution_count": 3,
   "metadata": {},
   "outputs": [
    {
     "data": {
      "text/html": [
       "<div>\n",
       "<style scoped>\n",
       "    .dataframe tbody tr th:only-of-type {\n",
       "        vertical-align: middle;\n",
       "    }\n",
       "\n",
       "    .dataframe tbody tr th {\n",
       "        vertical-align: top;\n",
       "    }\n",
       "\n",
       "    .dataframe thead th {\n",
       "        text-align: right;\n",
       "    }\n",
       "</style>\n",
       "<table border=\"1\" class=\"dataframe\">\n",
       "  <thead>\n",
       "    <tr style=\"text-align: right;\">\n",
       "      <th></th>\n",
       "      <th>LOCATION</th>\n",
       "      <th>TIME</th>\n",
       "      <th>ELAPSED_TIME_SINCE_OUTBREAK</th>\n",
       "      <th>CONFIRMED</th>\n",
       "      <th>DEATHS</th>\n",
       "      <th>RECOVERED</th>\n",
       "    </tr>\n",
       "  </thead>\n",
       "  <tbody>\n",
       "    <tr>\n",
       "      <th>0</th>\n",
       "      <td>Afghanistan</td>\n",
       "      <td>2020-02-24 23:59:00</td>\n",
       "      <td>0</td>\n",
       "      <td>1</td>\n",
       "      <td>0</td>\n",
       "      <td>0</td>\n",
       "    </tr>\n",
       "    <tr>\n",
       "      <th>1</th>\n",
       "      <td>Afghanistan</td>\n",
       "      <td>2020-02-25 23:59:00</td>\n",
       "      <td>1</td>\n",
       "      <td>1</td>\n",
       "      <td>0</td>\n",
       "      <td>0</td>\n",
       "    </tr>\n",
       "    <tr>\n",
       "      <th>2</th>\n",
       "      <td>Afghanistan</td>\n",
       "      <td>2020-02-26 23:59:00</td>\n",
       "      <td>2</td>\n",
       "      <td>1</td>\n",
       "      <td>0</td>\n",
       "      <td>0</td>\n",
       "    </tr>\n",
       "    <tr>\n",
       "      <th>3</th>\n",
       "      <td>Afghanistan</td>\n",
       "      <td>2020-02-27 23:59:00</td>\n",
       "      <td>3</td>\n",
       "      <td>1</td>\n",
       "      <td>0</td>\n",
       "      <td>0</td>\n",
       "    </tr>\n",
       "    <tr>\n",
       "      <th>4</th>\n",
       "      <td>Afghanistan</td>\n",
       "      <td>2020-02-28 23:59:00</td>\n",
       "      <td>4</td>\n",
       "      <td>1</td>\n",
       "      <td>0</td>\n",
       "      <td>0</td>\n",
       "    </tr>\n",
       "    <tr>\n",
       "      <th>...</th>\n",
       "      <td>...</td>\n",
       "      <td>...</td>\n",
       "      <td>...</td>\n",
       "      <td>...</td>\n",
       "      <td>...</td>\n",
       "      <td>...</td>\n",
       "    </tr>\n",
       "    <tr>\n",
       "      <th>240</th>\n",
       "      <td>Afghanistan</td>\n",
       "      <td>2020-10-21 23:59:00</td>\n",
       "      <td>240</td>\n",
       "      <td>40510</td>\n",
       "      <td>1501</td>\n",
       "      <td>33824</td>\n",
       "    </tr>\n",
       "    <tr>\n",
       "      <th>241</th>\n",
       "      <td>Afghanistan</td>\n",
       "      <td>2020-10-22 23:59:00</td>\n",
       "      <td>241</td>\n",
       "      <td>40626</td>\n",
       "      <td>1505</td>\n",
       "      <td>33831</td>\n",
       "    </tr>\n",
       "    <tr>\n",
       "      <th>242</th>\n",
       "      <td>Afghanistan</td>\n",
       "      <td>2020-10-23 23:59:00</td>\n",
       "      <td>242</td>\n",
       "      <td>40687</td>\n",
       "      <td>1507</td>\n",
       "      <td>34010</td>\n",
       "    </tr>\n",
       "    <tr>\n",
       "      <th>243</th>\n",
       "      <td>Afghanistan</td>\n",
       "      <td>2020-10-24 23:59:00</td>\n",
       "      <td>243</td>\n",
       "      <td>40768</td>\n",
       "      <td>1511</td>\n",
       "      <td>34023</td>\n",
       "    </tr>\n",
       "    <tr>\n",
       "      <th>244</th>\n",
       "      <td>Afghanistan</td>\n",
       "      <td>2020-10-25 23:59:00</td>\n",
       "      <td>244</td>\n",
       "      <td>40833</td>\n",
       "      <td>1514</td>\n",
       "      <td>34129</td>\n",
       "    </tr>\n",
       "  </tbody>\n",
       "</table>\n",
       "<p>245 rows × 6 columns</p>\n",
       "</div>"
      ],
      "text/plain": [
       "        LOCATION                 TIME  ELAPSED_TIME_SINCE_OUTBREAK  CONFIRMED  \\\n",
       "0    Afghanistan  2020-02-24 23:59:00                            0          1   \n",
       "1    Afghanistan  2020-02-25 23:59:00                            1          1   \n",
       "2    Afghanistan  2020-02-26 23:59:00                            2          1   \n",
       "3    Afghanistan  2020-02-27 23:59:00                            3          1   \n",
       "4    Afghanistan  2020-02-28 23:59:00                            4          1   \n",
       "..           ...                  ...                          ...        ...   \n",
       "240  Afghanistan  2020-10-21 23:59:00                          240      40510   \n",
       "241  Afghanistan  2020-10-22 23:59:00                          241      40626   \n",
       "242  Afghanistan  2020-10-23 23:59:00                          242      40687   \n",
       "243  Afghanistan  2020-10-24 23:59:00                          243      40768   \n",
       "244  Afghanistan  2020-10-25 23:59:00                          244      40833   \n",
       "\n",
       "     DEATHS  RECOVERED  \n",
       "0         0          0  \n",
       "1         0          0  \n",
       "2         0          0  \n",
       "3         0          0  \n",
       "4         0          0  \n",
       "..      ...        ...  \n",
       "240    1501      33824  \n",
       "241    1505      33831  \n",
       "242    1507      34010  \n",
       "243    1511      34023  \n",
       "244    1514      34129  \n",
       "\n",
       "[245 rows x 6 columns]"
      ]
     },
     "execution_count": 3,
     "metadata": {},
     "output_type": "execute_result"
    }
   ],
   "source": [
    "data_A = data[data['LOCATION'] == 'Afghanistan']\n",
    "data_A"
   ]
  },
  {
   "cell_type": "code",
   "execution_count": 4,
   "metadata": {},
   "outputs": [],
   "source": [
    "time_A = data_A['ELAPSED_TIME_SINCE_OUTBREAK'].to_numpy()\n",
    "confirmed_A = data_A['CONFIRMED'].to_numpy()\n",
    "confirmed_A = confirmed_A[35:]\n",
    "time_A = time_A[35:]"
   ]
  },
  {
   "cell_type": "code",
   "execution_count": 8,
   "metadata": {},
   "outputs": [
    {
     "data": {
      "image/png": "[encoded data removed]",
      "text/plain": [
       "<Figure size 864x576 with 1 Axes>"
      ]
     },
     "metadata": {
      "needs_background": "light"
     },
     "output_type": "display_data"
    }
   ],
   "source": [
    "fig, ax = plt.subplots(figsize=(12, 8))\n",
    "ax.grid()\n",
    "plt.title('Covid-19 in Afghanistan')\n",
    "plt.xlabel('Time since initial breakout (days)')\n",
    "plt.ylabel('Number of confirmed cases')\n",
    "ax.plot(time_A, confirmed_A, color='black')\n",
    "\n",
    "plt.show()"
   ]
  },
  {
   "attachments": {},
   "cell_type": "markdown",
   "metadata": {},
   "source": [
    "# SINDy method "
   ]
  },
  {
   "cell_type": "code",
   "execution_count": 7,
   "metadata": {},
   "outputs": [],
   "source": [
    "from scipy.integrate import solve_ivp\n",
    "from derivative import dxdt"
   ]
  },
  {
   "cell_type": "code",
   "execution_count": 8,
   "metadata": {},
   "outputs": [],
   "source": [
    "def create_library(u: np.ndarray, polynomial_order: int,\n",
    "                   use_trig: bool) -> np.ndarray:\n",
    "    \"\"\"Creates a matrix containing a library of candidate functions.\n",
    "    For example, if our u depends on x, and we specify\n",
    "    polynomial_order=2 and use_trig=false, our terms would be:\n",
    "    1, x, x^2.\n",
    "    \"\"\"\n",
    "    \n",
    "    u = u.reshape((-1, 1))\n",
    "    \n",
    "    (m, n) = u.shape\n",
    "    theta = np.ones((m, 1))\n",
    "\n",
    "    # Polynomials of order 1.\n",
    "    theta = np.hstack((theta, u))\n",
    "\n",
    "    # Polynomials of order 2.\n",
    "    if polynomial_order >= 2:\n",
    "        for i in range(n):\n",
    "            for j in range(i, n):\n",
    "                theta = np.hstack((theta, u[:, i:i + 1] * u[:, j:j + 1]))\n",
    "\n",
    "    # Polynomials of order 3.\n",
    "    if polynomial_order >= 3:\n",
    "        for i in range(n):\n",
    "            for j in range(i, n):\n",
    "                for k in range(j, n):\n",
    "                    theta = np.hstack(\n",
    "                        (theta, u[:, i:i + 1] * u[:, j:j + 1] * u[:, k:k + 1]))\n",
    "\n",
    "    # Polynomials of order 4.\n",
    "    if polynomial_order >= 4:\n",
    "        for i in range(n):\n",
    "            for j in range(i, n):\n",
    "                for k in range(j, n):\n",
    "                    for l in range(k, n):\n",
    "                        theta = np.hstack(\n",
    "                            (theta, u[:, i:i + 1] * u[:, j:j + 1] *\n",
    "                             u[:, k:k + 1] * u[:, l:l + 1]))\n",
    "\n",
    "    # Polynomials of order 5.\n",
    "    if polynomial_order >= 5:\n",
    "        for i in range(n):\n",
    "            for j in range(i, n):\n",
    "                for k in range(j, n):\n",
    "                    for l in range(k, n):\n",
    "                        for m in range(l, n):\n",
    "                            theta = np.hstack(\n",
    "                                (theta, u[:, i:i + 1] * u[:, j:j + 1] *\n",
    "                                 u[:, k:k + 1] * u[:, l:l + 1] * u[:, m:m + 1]))\n",
    "\n",
    "    if use_trig:\n",
    "        for i in range(1, 11):\n",
    "            theta = np.hstack((theta, np.sin(i * u), np.cos(i * u)))\n",
    "\n",
    "    return theta"
   ]
  },
  {
   "cell_type": "code",
   "execution_count": 10,
   "metadata": {},
   "outputs": [],
   "source": [
    "def calculate_regression(theta: np.ndarray, uprime: np.ndarray, threshold: float, max_iterations: int) -> np.ndarray:\n",
    "    # Solve theta * xi = uprime in the least-squares sense.\n",
    "    xi = np.linalg.lstsq(theta, uprime, rcond=None)[0]\n",
    "    xi_before = xi\n",
    "    n = len(xi)\n",
    "    #print('xi before sparisty: ', xi)\n",
    "\n",
    "    # Add sparsity.\n",
    "    for _ in range(max_iterations):\n",
    "        small_indices = np.abs(xi) < threshold\n",
    "        xi[small_indices] = 0\n",
    "        for j in range(n):\n",
    "            big_indices = np.logical_not(small_indices)\n",
    "            xi[big_indices] = np.linalg.lstsq(theta[:, big_indices],\n",
    "                                              uprime,\n",
    "                                              rcond=None)[0]\n",
    "\n",
    "    return xi_before, xi "
   ]
  },
  {
   "cell_type": "code",
   "execution_count": 11,
   "metadata": {},
   "outputs": [],
   "source": [
    "def approximation(_: float, u: np.ndarray, xi: np.ndarray) -> np.ndarray:\n",
    "    theta = create_library(u.reshape((1, 3)), POLYNOMIAL_ORDER, USE_TRIG)\n",
    "    return theta @ xi\n",
    "\n",
    "def compute_trajectory(u0: np.ndarray, xi: np.ndarray) -> np.ndarray:\n",
    "    if u0.size == 1:\n",
    "        u0 = np.repeat(u0, 3)\n",
    "    else:\n",
    "        u0 = u0.reshape((3,))\n",
    "    t0 = 0\n",
    "    dt = 1\n",
    "    tmax = 210\n",
    "    n = int(tmax / dt + 1)\n",
    "\n",
    "    t = np.linspace(start=t0, stop=tmax, num=n)\n",
    "    result = solve_ivp(fun=approximation,\n",
    "                       t_span=(t0, tmax),\n",
    "                       y0=u0,\n",
    "                       t_eval=t,\n",
    "                       args=(xi, ))\n",
    "    u = result.y.T\n",
    "\n",
    "    return u"
   ]
  },
  {
   "cell_type": "code",
   "execution_count": 12,
   "metadata": {},
   "outputs": [],
   "source": [
    "data_A_der = dxdt(confirmed_A, time_A, kind=\"kalman\", alpha=2)"
   ]
  },
  {
   "cell_type": "code",
   "execution_count": 13,
   "metadata": {},
   "outputs": [
    {
     "data": {
      "text/plain": [
       "[<matplotlib.lines.Line2D at 0x24e616251c0>]"
      ]
     },
     "execution_count": 13,
     "metadata": {},
     "output_type": "execute_result"
    },
    {
     "data": {
      "image/png": "[encoded data removed]",
      "text/plain": [
       "<Figure size 864x576 with 1 Axes>"
      ]
     },
     "metadata": {
      "needs_background": "light"
     },
     "output_type": "display_data"
    }
   ],
   "source": [
    "fig, ax = plt.subplots(figsize=(12, 8))\n",
    "ax.grid()\n",
    "ax.set_xlabel('Time since initial breakout (days)')\n",
    "ax.set_ylabel('Number of confirmed cases')\n",
    "ax.plot(time_A, data_A_der, color='black')"
   ]
  },
  {
   "cell_type": "code",
   "execution_count": 14,
   "metadata": {},
   "outputs": [],
   "source": [
    "POLYNOMIAL_ORDER = 3\n",
    "USE_TRIG = False\n",
    "USE_EXP = False\n",
    "T_ORDER = 1\n",
    "\n",
    "theta = create_library(confirmed_A, POLYNOMIAL_ORDER, USE_TRIG)"
   ]
  },
  {
   "cell_type": "code",
   "execution_count": 25,
   "metadata": {},
   "outputs": [
    {
     "name": "stdout",
     "output_type": "stream",
     "text": [
      "(4,)\n"
     ]
    },
    {
     "data": {
      "text/plain": [
       "array([ 4.74599839e+01,  6.02929056e-02, -1.57168749e-06,  0.00000000e+00])"
      ]
     },
     "execution_count": 25,
     "metadata": {},
     "output_type": "execute_result"
    }
   ],
   "source": [
    "THRESHOLD = 0.000001\n",
    "MAX_ITERATIONS = 10\n",
    "\n",
    "xi_before, xi = calculate_regression(theta, data_A_der, THRESHOLD, MAX_ITERATIONS)\n",
    "\n",
    "mat_0 = confirmed_A[0]\n",
    "u_approximation = compute_trajectory(mat_0, xi)\n",
    "xi\n"
   ]
  },
  {
   "cell_type": "code",
   "execution_count": 28,
   "metadata": {},
   "outputs": [
    {
     "data": {
      "text/plain": [
       "[<matplotlib.lines.Line2D at 0x24e66ef89d0>,\n",
       " <matplotlib.lines.Line2D at 0x24e66ef8a00>,\n",
       " <matplotlib.lines.Line2D at 0x24e66ef8b20>]"
      ]
     },
     "execution_count": 28,
     "metadata": {},
     "output_type": "execute_result"
    },
    {
     "data": {
      "image/png": "[encoded data removed]",
      "text/plain": [
       "<Figure size 864x576 with 1 Axes>"
      ]
     },
     "metadata": {
      "needs_background": "light"
     },
     "output_type": "display_data"
    }
   ],
   "source": [
    "fig, ax = plt.subplots(figsize=(12, 8))\n",
    "ax.grid()\n",
    "ax.set_xlabel('Time since initial breakout (days)')\n",
    "ax.set_ylabel('Number of confirmed cases')\n",
    "ax.plot(time_A, confirmed_A, color='black')\n",
    "ax.plot(time_A, u_approximation[:-1], color='red')"
   ]
  },
  {
   "cell_type": "code",
   "execution_count": null,
   "metadata": {},
   "outputs": [],
   "source": []
  }
 ],
 "metadata": {
  "kernelspec": {
   "display_name": "base",
   "language": "python",
   "name": "python3"
  },
  "language_info": {
   "codemirror_mode": {
    "name": "ipython",
    "version": 3
   },
   "file_extension": ".py",
   "mimetype": "text/x-python",
   "name": "python",
   "nbconvert_exporter": "python",
   "pygments_lexer": "ipython3",
   "version": "3.9.12"
  },
  "orig_nbformat": 4,
  "vscode": {
   "interpreter": {
    "hash": "847d36dd74d3db7bcac89bf357c370f015c294bfb16cb92561a1974142bc3141"
   }
  }
 },
 "nbformat": 4,
 "nbformat_minor": 2
}
